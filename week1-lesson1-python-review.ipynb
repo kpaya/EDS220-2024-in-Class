{
 "cells": [
  {
   "cell_type": "markdown",
   "id": "a4d2f98f-1e76-46aa-aa60-862a32376695",
   "metadata": {},
   "source": [
    "# Python Review\n",
    "short review about some core concept in python exemplified by objects in the Numpy Library\n",
    "\n",
    "- recall basic Python vocabulary\n",
    "- practice markdown syntax\n",
    "\n",
    "## Libraries and packages\n",
    "\n",
    "**Library** is a collection of code that we can use to perform specific tasks in our programs. It can be a single file or multiple files\n",
    "\n",
    "**NumPy:**\n",
    "\n",
    "-core library for numerical computing in Python\n",
    "-Many of libraries use NumPy arrays as their building blocks\n",
    "-computations on NumPy objects are optimized for speed and memory usage\n",
    "\n",
    "lets import NumPy with its **Standard abbreviation** np:"
   ]
  },
  {
   "cell_type": "code",
   "execution_count": 2,
   "id": "879e4b75-8ac7-4049-a063-721ecb5ea911",
   "metadata": {
    "tags": []
   },
   "outputs": [],
   "source": [
    "import numpy as np"
   ]
  },
  {
   "cell_type": "markdown",
   "id": "a101467f-d20a-487a-a490-edbdbf8564f8",
   "metadata": {},
   "source": [
    "## variables \n",
    "**variable:** a name we assign to a particular object in Python\n",
    "Example:"
   ]
  },
  {
   "cell_type": "code",
   "execution_count": 3,
   "id": "5656b66e-e3ec-4293-9915-55b06a319cae",
   "metadata": {
    "tags": []
   },
   "outputs": [],
   "source": [
    "# Assign a small array to variable a\n",
    "a=np.array([[1,1,2],[3,5,8]])"
   ]
  },
  {
   "cell_type": "markdown",
   "id": "19730158-7d90-4ba1-8fb3-9347aa156c55",
   "metadata": {},
   "source": [
    "To view a variable's value from our jupyter notebook:"
   ]
  },
  {
   "cell_type": "code",
   "execution_count": 4,
   "id": "5794d903-480b-4fc3-bff3-f3d9f19631b7",
   "metadata": {
    "tags": []
   },
   "outputs": [
    {
     "data": {
      "text/plain": [
       "array([[1, 1, 2],\n",
       "       [3, 5, 8]])"
      ]
     },
     "execution_count": 4,
     "metadata": {},
     "output_type": "execute_result"
    }
   ],
   "source": [
    "a"
   ]
  },
  {
   "cell_type": "code",
   "execution_count": null,
   "id": "b6ee6a90-ec6d-4a80-956d-ecb7b19f070d",
   "metadata": {},
   "outputs": [],
   "source": []
  },
  {
   "cell_type": "code",
   "execution_count": null,
   "id": "9f25334d-a5b1-4b2b-9f9d-3abf02266ea2",
   "metadata": {},
   "outputs": [],
   "source": []
  },
  {
   "cell_type": "code",
   "execution_count": null,
   "id": "25b4996e-5fff-45f5-bcf9-2d029ca64a1d",
   "metadata": {},
   "outputs": [],
   "source": []
  },
  {
   "cell_type": "code",
   "execution_count": null,
   "id": "f0e03cd9-c8f9-4e68-b089-c2dd037d2741",
   "metadata": {},
   "outputs": [],
   "source": []
  },
  {
   "cell_type": "code",
   "execution_count": null,
   "id": "e52d2813-cc41-430b-a83c-abb63967ee40",
   "metadata": {},
   "outputs": [],
   "source": []
  }
 ],
 "metadata": {
  "kernelspec": {
   "display_name": "Anaconda 3 (Base)",
   "language": "python",
   "name": "base"
  },
  "language_info": {
   "codemirror_mode": {
    "name": "ipython",
    "version": 3
   },
   "file_extension": ".py",
   "mimetype": "text/x-python",
   "name": "python",
   "nbconvert_exporter": "python",
   "pygments_lexer": "ipython3",
   "version": "3.9.13"
  }
 },
 "nbformat": 4,
 "nbformat_minor": 5
}
